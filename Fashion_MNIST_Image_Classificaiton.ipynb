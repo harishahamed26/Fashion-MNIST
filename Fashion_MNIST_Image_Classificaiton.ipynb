{
  "cells": [
    {
      "cell_type": "markdown",
      "metadata": {
        "id": "view-in-github",
        "colab_type": "text"
      },
      "source": [
        "<a href=\"https://colab.research.google.com/github/harishahamed26/Fashion-MNIST/blob/main/Fashion_MNIST_Image_Classificaiton.ipynb\" target=\"_parent\"><img src=\"https://colab.research.google.com/assets/colab-badge.svg\" alt=\"Open In Colab\"/></a>"
      ]
    },
    {
      "cell_type": "markdown",
      "metadata": {
        "id": "_kmJZr65WwVe"
      },
      "source": [
        "# Fashion-MNIST - Image-Classificaiton"
      ]
    },
    {
      "cell_type": "markdown",
      "metadata": {
        "id": "DPARlnrxWztF"
      },
      "source": [
        "## Data Loading and EDA"
      ]
    },
    {
      "cell_type": "code",
      "execution_count": 2,
      "metadata": {
        "colab": {
          "base_uri": "https://localhost:8080/"
        },
        "id": "vZ9ThRM7odiL",
        "outputId": "6f09ff18-508a-4e79-9904-9c7486acbed6"
      },
      "outputs": [
        {
          "output_type": "stream",
          "name": "stdout",
          "text": [
            "Looking in indexes: https://pypi.org/simple, https://us-python.pkg.dev/colab-wheels/public/simple/\n",
            "Collecting keras-tuner\n",
            "  Downloading keras_tuner-1.3.0-py3-none-any.whl (167 kB)\n",
            "\u001b[2K     \u001b[90m━━━━━━━━━━━━━━━━━━━━━━━━━━━━━━━━━━━━━━━\u001b[0m \u001b[32m167.3/167.3 KB\u001b[0m \u001b[31m3.5 MB/s\u001b[0m eta \u001b[36m0:00:00\u001b[0m\n",
            "\u001b[?25hRequirement already satisfied: requests in /usr/local/lib/python3.8/dist-packages (from keras-tuner) (2.25.1)\n",
            "Requirement already satisfied: ipython in /usr/local/lib/python3.8/dist-packages (from keras-tuner) (7.9.0)\n",
            "Requirement already satisfied: packaging in /usr/local/lib/python3.8/dist-packages (from keras-tuner) (23.0)\n",
            "Requirement already satisfied: tensorflow>=2.0 in /usr/local/lib/python3.8/dist-packages (from keras-tuner) (2.11.0)\n",
            "Collecting kt-legacy\n",
            "  Downloading kt_legacy-1.0.4-py3-none-any.whl (9.6 kB)\n",
            "Requirement already satisfied: wrapt>=1.11.0 in /usr/local/lib/python3.8/dist-packages (from tensorflow>=2.0->keras-tuner) (1.15.0)\n",
            "Requirement already satisfied: numpy>=1.20 in /usr/local/lib/python3.8/dist-packages (from tensorflow>=2.0->keras-tuner) (1.22.4)\n",
            "Requirement already satisfied: six>=1.12.0 in /usr/local/lib/python3.8/dist-packages (from tensorflow>=2.0->keras-tuner) (1.15.0)\n",
            "Requirement already satisfied: opt-einsum>=2.3.2 in /usr/local/lib/python3.8/dist-packages (from tensorflow>=2.0->keras-tuner) (3.3.0)\n",
            "Requirement already satisfied: tensorboard<2.12,>=2.11 in /usr/local/lib/python3.8/dist-packages (from tensorflow>=2.0->keras-tuner) (2.11.2)\n",
            "Requirement already satisfied: setuptools in /usr/local/lib/python3.8/dist-packages (from tensorflow>=2.0->keras-tuner) (57.4.0)\n",
            "Requirement already satisfied: google-pasta>=0.1.1 in /usr/local/lib/python3.8/dist-packages (from tensorflow>=2.0->keras-tuner) (0.2.0)\n",
            "Requirement already satisfied: libclang>=13.0.0 in /usr/local/lib/python3.8/dist-packages (from tensorflow>=2.0->keras-tuner) (15.0.6.1)\n",
            "Requirement already satisfied: astunparse>=1.6.0 in /usr/local/lib/python3.8/dist-packages (from tensorflow>=2.0->keras-tuner) (1.6.3)\n",
            "Requirement already satisfied: tensorflow-io-gcs-filesystem>=0.23.1 in /usr/local/lib/python3.8/dist-packages (from tensorflow>=2.0->keras-tuner) (0.31.0)\n",
            "Requirement already satisfied: typing-extensions>=3.6.6 in /usr/local/lib/python3.8/dist-packages (from tensorflow>=2.0->keras-tuner) (4.5.0)\n",
            "Requirement already satisfied: gast<=0.4.0,>=0.2.1 in /usr/local/lib/python3.8/dist-packages (from tensorflow>=2.0->keras-tuner) (0.4.0)\n",
            "Requirement already satisfied: grpcio<2.0,>=1.24.3 in /usr/local/lib/python3.8/dist-packages (from tensorflow>=2.0->keras-tuner) (1.51.3)\n",
            "Requirement already satisfied: h5py>=2.9.0 in /usr/local/lib/python3.8/dist-packages (from tensorflow>=2.0->keras-tuner) (3.1.0)\n",
            "Requirement already satisfied: keras<2.12,>=2.11.0 in /usr/local/lib/python3.8/dist-packages (from tensorflow>=2.0->keras-tuner) (2.11.0)\n",
            "Requirement already satisfied: flatbuffers>=2.0 in /usr/local/lib/python3.8/dist-packages (from tensorflow>=2.0->keras-tuner) (23.1.21)\n",
            "Requirement already satisfied: termcolor>=1.1.0 in /usr/local/lib/python3.8/dist-packages (from tensorflow>=2.0->keras-tuner) (2.2.0)\n",
            "Requirement already satisfied: tensorflow-estimator<2.12,>=2.11.0 in /usr/local/lib/python3.8/dist-packages (from tensorflow>=2.0->keras-tuner) (2.11.0)\n",
            "Requirement already satisfied: absl-py>=1.0.0 in /usr/local/lib/python3.8/dist-packages (from tensorflow>=2.0->keras-tuner) (1.4.0)\n",
            "Requirement already satisfied: protobuf<3.20,>=3.9.2 in /usr/local/lib/python3.8/dist-packages (from tensorflow>=2.0->keras-tuner) (3.19.6)\n",
            "Requirement already satisfied: backcall in /usr/local/lib/python3.8/dist-packages (from ipython->keras-tuner) (0.2.0)\n",
            "Requirement already satisfied: pygments in /usr/local/lib/python3.8/dist-packages (from ipython->keras-tuner) (2.6.1)\n",
            "Requirement already satisfied: decorator in /usr/local/lib/python3.8/dist-packages (from ipython->keras-tuner) (4.4.2)\n",
            "Requirement already satisfied: prompt-toolkit<2.1.0,>=2.0.0 in /usr/local/lib/python3.8/dist-packages (from ipython->keras-tuner) (2.0.10)\n",
            "Requirement already satisfied: traitlets>=4.2 in /usr/local/lib/python3.8/dist-packages (from ipython->keras-tuner) (5.7.1)\n",
            "Collecting jedi>=0.10\n",
            "  Downloading jedi-0.18.2-py2.py3-none-any.whl (1.6 MB)\n",
            "\u001b[2K     \u001b[90m━━━━━━━━━━━━━━━━━━━━━━━━━━━━━━━━━━━━━━━━\u001b[0m \u001b[32m1.6/1.6 MB\u001b[0m \u001b[31m24.9 MB/s\u001b[0m eta \u001b[36m0:00:00\u001b[0m\n",
            "\u001b[?25hRequirement already satisfied: pexpect in /usr/local/lib/python3.8/dist-packages (from ipython->keras-tuner) (4.8.0)\n",
            "Requirement already satisfied: pickleshare in /usr/local/lib/python3.8/dist-packages (from ipython->keras-tuner) (0.7.5)\n",
            "Requirement already satisfied: idna<3,>=2.5 in /usr/local/lib/python3.8/dist-packages (from requests->keras-tuner) (2.10)\n",
            "Requirement already satisfied: urllib3<1.27,>=1.21.1 in /usr/local/lib/python3.8/dist-packages (from requests->keras-tuner) (1.26.14)\n",
            "Requirement already satisfied: chardet<5,>=3.0.2 in /usr/local/lib/python3.8/dist-packages (from requests->keras-tuner) (4.0.0)\n",
            "Requirement already satisfied: certifi>=2017.4.17 in /usr/local/lib/python3.8/dist-packages (from requests->keras-tuner) (2022.12.7)\n",
            "Requirement already satisfied: wheel<1.0,>=0.23.0 in /usr/local/lib/python3.8/dist-packages (from astunparse>=1.6.0->tensorflow>=2.0->keras-tuner) (0.38.4)\n",
            "Requirement already satisfied: parso<0.9.0,>=0.8.0 in /usr/local/lib/python3.8/dist-packages (from jedi>=0.10->ipython->keras-tuner) (0.8.3)\n",
            "Requirement already satisfied: wcwidth in /usr/local/lib/python3.8/dist-packages (from prompt-toolkit<2.1.0,>=2.0.0->ipython->keras-tuner) (0.2.6)\n",
            "Requirement already satisfied: google-auth-oauthlib<0.5,>=0.4.1 in /usr/local/lib/python3.8/dist-packages (from tensorboard<2.12,>=2.11->tensorflow>=2.0->keras-tuner) (0.4.6)\n",
            "Requirement already satisfied: tensorboard-plugin-wit>=1.6.0 in /usr/local/lib/python3.8/dist-packages (from tensorboard<2.12,>=2.11->tensorflow>=2.0->keras-tuner) (1.8.1)\n",
            "Requirement already satisfied: werkzeug>=1.0.1 in /usr/local/lib/python3.8/dist-packages (from tensorboard<2.12,>=2.11->tensorflow>=2.0->keras-tuner) (2.2.3)\n",
            "Requirement already satisfied: tensorboard-data-server<0.7.0,>=0.6.0 in /usr/local/lib/python3.8/dist-packages (from tensorboard<2.12,>=2.11->tensorflow>=2.0->keras-tuner) (0.6.1)\n",
            "Requirement already satisfied: google-auth<3,>=1.6.3 in /usr/local/lib/python3.8/dist-packages (from tensorboard<2.12,>=2.11->tensorflow>=2.0->keras-tuner) (2.16.1)\n",
            "Requirement already satisfied: markdown>=2.6.8 in /usr/local/lib/python3.8/dist-packages (from tensorboard<2.12,>=2.11->tensorflow>=2.0->keras-tuner) (3.4.1)\n",
            "Requirement already satisfied: ptyprocess>=0.5 in /usr/local/lib/python3.8/dist-packages (from pexpect->ipython->keras-tuner) (0.7.0)\n",
            "Requirement already satisfied: pyasn1-modules>=0.2.1 in /usr/local/lib/python3.8/dist-packages (from google-auth<3,>=1.6.3->tensorboard<2.12,>=2.11->tensorflow>=2.0->keras-tuner) (0.2.8)\n",
            "Requirement already satisfied: rsa<5,>=3.1.4 in /usr/local/lib/python3.8/dist-packages (from google-auth<3,>=1.6.3->tensorboard<2.12,>=2.11->tensorflow>=2.0->keras-tuner) (4.9)\n",
            "Requirement already satisfied: cachetools<6.0,>=2.0.0 in /usr/local/lib/python3.8/dist-packages (from google-auth<3,>=1.6.3->tensorboard<2.12,>=2.11->tensorflow>=2.0->keras-tuner) (5.3.0)\n",
            "Requirement already satisfied: requests-oauthlib>=0.7.0 in /usr/local/lib/python3.8/dist-packages (from google-auth-oauthlib<0.5,>=0.4.1->tensorboard<2.12,>=2.11->tensorflow>=2.0->keras-tuner) (1.3.1)\n",
            "Requirement already satisfied: importlib-metadata>=4.4 in /usr/local/lib/python3.8/dist-packages (from markdown>=2.6.8->tensorboard<2.12,>=2.11->tensorflow>=2.0->keras-tuner) (6.0.0)\n",
            "Requirement already satisfied: MarkupSafe>=2.1.1 in /usr/local/lib/python3.8/dist-packages (from werkzeug>=1.0.1->tensorboard<2.12,>=2.11->tensorflow>=2.0->keras-tuner) (2.1.2)\n",
            "Requirement already satisfied: zipp>=0.5 in /usr/local/lib/python3.8/dist-packages (from importlib-metadata>=4.4->markdown>=2.6.8->tensorboard<2.12,>=2.11->tensorflow>=2.0->keras-tuner) (3.15.0)\n",
            "Requirement already satisfied: pyasn1<0.5.0,>=0.4.6 in /usr/local/lib/python3.8/dist-packages (from pyasn1-modules>=0.2.1->google-auth<3,>=1.6.3->tensorboard<2.12,>=2.11->tensorflow>=2.0->keras-tuner) (0.4.8)\n",
            "Requirement already satisfied: oauthlib>=3.0.0 in /usr/local/lib/python3.8/dist-packages (from requests-oauthlib>=0.7.0->google-auth-oauthlib<0.5,>=0.4.1->tensorboard<2.12,>=2.11->tensorflow>=2.0->keras-tuner) (3.2.2)\n",
            "Installing collected packages: kt-legacy, jedi, keras-tuner\n",
            "Successfully installed jedi-0.18.2 keras-tuner-1.3.0 kt-legacy-1.0.4\n"
          ]
        }
      ],
      "source": [
        " ! pip install keras-tuner  # Installing keras tuner\n",
        " "
      ]
    },
    {
      "cell_type": "code",
      "execution_count": 5,
      "metadata": {
        "id": "VLdpL9QbkPwl"
      },
      "outputs": [],
      "source": [
        "# Importing of necessary libraries\n",
        "\n",
        "\n",
        "import numpy  as np\n",
        "import pandas as pd\n",
        "import matplotlib.pyplot as plt\n",
        "import seaborn as sns\n",
        "import cv2  \n",
        "from sklearn.metrics import accuracy_score, classification_report, confusion_matrix\n",
        "\n",
        "from tqdm import tqdm\n",
        "import tensorflow_datasets as tfds\n",
        "import tensorflow as tf\n",
        "from tensorflow import keras\n",
        "from tensorflow.keras.models import Sequential\n",
        "from tensorflow.keras.layers import Dense\n",
        "from tensorflow.keras.layers import Dropout\n",
        "import kerastuner as kt\n",
        "\n",
        "\n",
        "# defining the constant dimension \n",
        "\n",
        "RANDOM_SEED = 100"
      ]
    },
    {
      "cell_type": "code",
      "execution_count": 6,
      "metadata": {
        "colab": {
          "base_uri": "https://localhost:8080/"
        },
        "id": "0LtxW8InmD3Z",
        "outputId": "ffb9a2d6-4ed2-4567-9ba5-8cfc559d3b4b"
      },
      "outputs": [
        {
          "output_type": "stream",
          "name": "stdout",
          "text": [
            "Downloading data from https://storage.googleapis.com/tensorflow/tf-keras-datasets/train-labels-idx1-ubyte.gz\n",
            "29515/29515 [==============================] - 0s 0us/step\n",
            "Downloading data from https://storage.googleapis.com/tensorflow/tf-keras-datasets/train-images-idx3-ubyte.gz\n",
            "26421880/26421880 [==============================] - 0s 0us/step\n",
            "Downloading data from https://storage.googleapis.com/tensorflow/tf-keras-datasets/t10k-labels-idx1-ubyte.gz\n",
            "5148/5148 [==============================] - 0s 0us/step\n",
            "Downloading data from https://storage.googleapis.com/tensorflow/tf-keras-datasets/t10k-images-idx3-ubyte.gz\n",
            "4422102/4422102 [==============================] - 0s 0us/step\n"
          ]
        }
      ],
      "source": [
        "# Loading the Fashion Mnist data from the keras dataset\n",
        "\n",
        "(X_train, Y_train), (X_test,Y_test) = tf.keras.datasets.fashion_mnist.load_data() "
      ]
    },
    {
      "cell_type": "code",
      "execution_count": null,
      "metadata": {
        "id": "bRMoYYq89Lhm"
      },
      "outputs": [],
      "source": [
        "LabelName = ['T-shirt/top', 'Trouser', 'Pullover', 'Dress', 'Coat',\n",
        "               'Sandal', 'Shirt', 'Sneaker', 'Bag', 'Ankle boot']"
      ]
    },
    {
      "cell_type": "code",
      "execution_count": 7,
      "metadata": {
        "id": "CQIypFNonZSj"
      },
      "outputs": [],
      "source": [
        "# Normalising the dataset\n",
        "\n",
        "X_train = X_train.astype(float)/255.0\n",
        "X_test  = X_test.astype(float)/255.0"
      ]
    },
    {
      "cell_type": "code",
      "execution_count": 8,
      "metadata": {
        "colab": {
          "base_uri": "https://localhost:8080/",
          "height": 283
        },
        "id": "ZspYSUtSm4zI",
        "outputId": "7e117217-13eb-40c7-c5e3-5f0454ab1237"
      },
      "outputs": [
        {
          "output_type": "execute_result",
          "data": {
            "text/plain": [
              "<matplotlib.image.AxesImage at 0x7f745d7af910>"
            ]
          },
          "metadata": {},
          "execution_count": 8
        },
        {
          "output_type": "display_data",
          "data": {
            "text/plain": [
              "<Figure size 432x288 with 1 Axes>"
            ],
            "image/png": "[encoded data removed]"
          },
          "metadata": {
            "needs_background": "light"
          }
        }
      ],
      "source": [
        "# Viewing of the Loaded Image\n",
        "\n",
        "plt.imshow(X_train[6])"
      ]
    },
    {
      "cell_type": "code",
      "execution_count": null,
      "metadata": {
        "colab": {
          "base_uri": "https://localhost:8080/"
        },
        "id": "9MZ-iCFZlGqI",
        "outputId": "a84760ac-9871-4356-ca11-a3f6b21be369"
      },
      "outputs": [
        {
          "data": {
            "text/plain": [
              "((60000, 28, 28), (10000, 28, 28), (60000,), (10000,))"
            ]
          },
          "execution_count": 8,
          "metadata": {},
          "output_type": "execute_result"
        }
      ],
      "source": [
        "# checking the shape of the module\n",
        "X_train.shape, X_test.shape, Y_train.shape, Y_test.shape\n"
      ]
    },
    {
      "cell_type": "code",
      "execution_count": null,
      "metadata": {
        "colab": {
          "base_uri": "https://localhost:8080/",
          "height": 592
        },
        "id": "Xu-bwGYCZpEM",
        "outputId": "e021bab7-0c70-4b53-a755-b9432c02f8e0"
      },
      "outputs": [
        {
          "data": {
            "image/png": "[encoded data removed]",
            "text/plain": [
              "<Figure size 720x720 with 16 Axes>"
            ]
          },
          "metadata": {},
          "output_type": "display_data"
        }
      ],
      "source": [
        "plt.figure(figsize=(10,10))\n",
        "for i in range(16):\n",
        "    plt.subplot(4,4,i+1)\n",
        "    plt.xticks([])\n",
        "    plt.yticks([])\n",
        "    plt.imshow(X_train[i], cmap=plt.cm.binary)\n",
        "    plt.xlabel(LabelName[Y_train[i]])\n",
        "plt.show()"
      ]
    },
    {
      "cell_type": "markdown",
      "metadata": {
        "id": "UI5jnlVimGnP"
      },
      "source": [
        "## Model Generation"
      ]
    },
    {
      "cell_type": "code",
      "execution_count": 23,
      "metadata": {
        "colab": {
          "base_uri": "https://localhost:8080/"
        },
        "id": "NqYSSeDJnnuO",
        "outputId": "314aaed5-a119-46aa-bc81-e0859da545d0"
      },
      "outputs": [
        {
          "output_type": "stream",
          "name": "stdout",
          "text": [
            "Model: \"sequential_4\"\n",
            "_________________________________________________________________\n",
            " Layer (type)                Output Shape              Param #   \n",
            "=================================================================\n",
            " flatten_4 (Flatten)         (None, 784)               0         \n",
            "                                                                 \n",
            " dense_30 (Dense)            (None, 1024)              803840    \n",
            "                                                                 \n",
            " dense_31 (Dense)            (None, 512)               524800    \n",
            "                                                                 \n",
            " dense_32 (Dense)            (None, 256)               131328    \n",
            "                                                                 \n",
            " dense_33 (Dense)            (None, 128)               32896     \n",
            "                                                                 \n",
            " dense_34 (Dense)            (None, 64)                8256      \n",
            "                                                                 \n",
            " dense_35 (Dense)            (None, 32)                2080      \n",
            "                                                                 \n",
            " dense_36 (Dense)            (None, 16)                528       \n",
            "                                                                 \n",
            " dense_37 (Dense)            (None, 10)                170       \n",
            "                                                                 \n",
            "=================================================================\n",
            "Total params: 1,503,898\n",
            "Trainable params: 1,503,898\n",
            "Non-trainable params: 0\n",
            "_________________________________________________________________\n"
          ]
        }
      ],
      "source": [
        "from keras.regularizers import Regularizer\n",
        "# Fixing the random seed\n",
        "#seed(1)\n",
        "tf.random.set_seed(RANDOM_SEED)\n",
        "\n",
        "# Creating a Feed-Forward Neural Network (FFNN)\n",
        "FFNN = Sequential()\n",
        "FFNN.add(tf.keras.layers.Input(shape=(28,28, 1)))\n",
        "FFNN.add(tf.keras.layers.Flatten())\n",
        "ffnn_filters = [1024, 512, 256, 128, 64, 32]\n",
        "for n_nodes in ffnn_filters:\n",
        "    FFNN.add(tf.keras.layers.Dense(n_nodes, activation='relu'))\n",
        "  #  FFNN.add(tf.keras.layers.Dropout(0.5))  # hidden layer\n",
        "FFNN.add(tf.keras.layers.Dense(16, activation='relu',kernel_initializer='ones',\n",
        "    kernel_regularizer=tf.keras.regularizers.L1(0.02)) )\n",
        "#FFNN.add(tf.keras.layers.Dropout(0.5))  # hidden layer\n",
        "FFNN.add(tf.keras.layers.Dense(10, activation='softmax'))        # output layer\n",
        "\n",
        "FFNN.summary()  # Summary of the model\n"
      ]
    },
    {
      "cell_type": "code",
      "execution_count": null,
      "metadata": {
        "id": "Ftn0y53Waxd0"
      },
      "outputs": [],
      "source": [
        "# Model Plotting using keras plot model \n",
        "\n",
        "keras.utils.plot_model(FFNN, to_file='model_plot.png', show_shapes=True,\n",
        "                       show_layer_names=True)"
      ]
    },
    {
      "cell_type": "code",
      "execution_count": 24,
      "metadata": {
        "colab": {
          "base_uri": "https://localhost:8080/"
        },
        "id": "VJJUuR1rQm3o",
        "outputId": "3ccd1a01-5f88-4bd2-b568-a8603bcfd89e"
      },
      "outputs": [
        {
          "output_type": "stream",
          "name": "stdout",
          "text": [
            "Epoch 1/80\n",
            "3000/3000 [==============================] - 47s 15ms/step - loss: 3.2077 - accuracy: 0.5595 - val_loss: 0.8650 - val_accuracy: 0.7727\n",
            "Epoch 2/80\n",
            "3000/3000 [==============================] - 45s 15ms/step - loss: 0.6043 - accuracy: 0.8436 - val_loss: 0.5499 - val_accuracy: 0.8410\n",
            "Epoch 3/80\n",
            "3000/3000 [==============================] - 45s 15ms/step - loss: 0.4560 - accuracy: 0.8659 - val_loss: 0.4405 - val_accuracy: 0.8656\n",
            "Epoch 4/80\n",
            "3000/3000 [==============================] - 44s 15ms/step - loss: 0.3873 - accuracy: 0.8768 - val_loss: 0.4660 - val_accuracy: 0.8592\n",
            "Epoch 5/80\n",
            "3000/3000 [==============================] - 45s 15ms/step - loss: 0.3555 - accuracy: 0.8820 - val_loss: 0.3963 - val_accuracy: 0.8687\n",
            "Epoch 6/80\n",
            "3000/3000 [==============================] - 45s 15ms/step - loss: 0.3318 - accuracy: 0.8884 - val_loss: 0.4029 - val_accuracy: 0.8657\n",
            "Epoch 7/80\n",
            "3000/3000 [==============================] - 45s 15ms/step - loss: 0.3138 - accuracy: 0.8928 - val_loss: 0.3796 - val_accuracy: 0.8758\n",
            "Epoch 8/80\n",
            "3000/3000 [==============================] - 44s 15ms/step - loss: 0.3007 - accuracy: 0.8983 - val_loss: 0.4096 - val_accuracy: 0.8704\n",
            "Epoch 9/80\n",
            "3000/3000 [==============================] - 45s 15ms/step - loss: 0.2893 - accuracy: 0.9013 - val_loss: 0.3472 - val_accuracy: 0.8865\n",
            "Epoch 10/80\n",
            "3000/3000 [==============================] - 45s 15ms/step - loss: 0.2773 - accuracy: 0.9057 - val_loss: 0.3629 - val_accuracy: 0.8788\n",
            "Epoch 11/80\n",
            "3000/3000 [==============================] - 44s 15ms/step - loss: 0.2652 - accuracy: 0.9095 - val_loss: 0.4093 - val_accuracy: 0.8809\n",
            "Epoch 12/80\n",
            "3000/3000 [==============================] - 45s 15ms/step - loss: 0.2572 - accuracy: 0.9115 - val_loss: 0.3452 - val_accuracy: 0.8896\n",
            "Epoch 13/80\n",
            "3000/3000 [==============================] - 46s 15ms/step - loss: 0.2561 - accuracy: 0.9130 - val_loss: 0.3863 - val_accuracy: 0.8825\n",
            "Epoch 14/80\n",
            "3000/3000 [==============================] - 45s 15ms/step - loss: 0.2421 - accuracy: 0.9169 - val_loss: 0.3536 - val_accuracy: 0.8890\n",
            "Epoch 15/80\n",
            "3000/3000 [==============================] - 44s 15ms/step - loss: 0.2350 - accuracy: 0.9191 - val_loss: 0.3733 - val_accuracy: 0.8866\n"
          ]
        }
      ],
      "source": [
        "  # Defining Early Stop method\n",
        "EarlyStop = keras.callbacks.EarlyStopping(monitor='val_accuracy', patience=3, \n",
        "                                          restore_best_weights=True)\n",
        "FFNN.compile(loss= 'sparse_categorical_crossentropy',\n",
        "              #optimizer = tf.keras.optimizers.Adam(learning_rate= 0.001),\n",
        "              optimizer = 'adam',\n",
        "              metrics = ['accuracy'])\n",
        "\n",
        "model_history = FFNN.fit(X_train, Y_train, epochs = 80, batch_size = 20, \n",
        "                         validation_data = (X_test,Y_test) ,  callbacks = EarlyStop)"
      ]
    },
    {
      "cell_type": "code",
      "execution_count": 25,
      "metadata": {
        "colab": {
          "base_uri": "https://localhost:8080/",
          "height": 573
        },
        "id": "1DrrzAYRoNxr",
        "outputId": "ea09e5f1-715d-4300-dd9f-5fe4c3fdc7e0"
      },
      "outputs": [
        {
          "output_type": "display_data",
          "data": {
            "text/plain": [
              "<Figure size 432x288 with 1 Axes>"
            ],
            "image/png": "[encoded data removed]"
          },
          "metadata": {
            "needs_background": "light"
          }
        },
        {
          "output_type": "display_data",
          "data": {
            "text/plain": [
              "<Figure size 432x288 with 1 Axes>"
            ],
            "image/png": "[encoded data removed]"
          },
          "metadata": {
            "needs_background": "light"
          }
        }
      ],
      "source": [
        "# summarize the history for accuracy\n",
        "plt.plot(model_history.history['accuracy'])\n",
        "plt.plot(model_history.history['val_accuracy'])\n",
        "plt.title('model accuracy')\n",
        "plt.ylabel('accuracy')\n",
        "plt.xlabel('epoch')\n",
        "plt.legend(['train','test'], loc='upper left')\n",
        "plt.show()\n",
        "\n",
        "# summarize the history for loss\n",
        "plt.plot(model_history.history['loss'])\n",
        "plt.plot(model_history.history['val_loss'])\n",
        "plt.title('model loss')\n",
        "plt.ylabel('loss')\n",
        "plt.xlabel('epoch')\n",
        "plt.legend(['train','test'], loc='upper left')\n",
        "plt.show()\n",
        "     "
      ]
    },
    {
      "cell_type": "code",
      "execution_count": null,
      "metadata": {
        "colab": {
          "base_uri": "https://localhost:8080/"
        },
        "id": "7SMDZMRtn-j8",
        "outputId": "d8f67e32-fd50-433d-d0ac-828c59aac4cd"
      },
      "outputs": [
        {
          "name": "stdout",
          "output_type": "stream",
          "text": [
            "313/313 [==============================] - 2s 5ms/step - loss: 0.3305 - accuracy: 0.8953\n",
            " Model Accuracy is 89.53% and Model Loss : 33.05%\n",
            "\n",
            "\n",
            "Validation Score: 88.44%\n"
          ]
        }
      ],
      "source": [
        "ev = FFNN.evaluate(X_test,Y_test)\n",
        "print(f' Model Accuracy is {(ev[1]* 100):.2f}% and Model Loss : {(ev[0] * 100):.2f}%')\n",
        "\n",
        "\n",
        "scores_val_accuracy = model_history.history['val_accuracy'][-1] * 100\n",
        "print('\\n')\n",
        "print(\"Validation Score: %.2f%%\" % (scores_val_accuracy))\n",
        "\n"
      ]
    },
    {
      "cell_type": "markdown",
      "metadata": {
        "id": "poud6WlEOsbA"
      },
      "source": [
        "## Hyper Tuning \n"
      ]
    },
    {
      "cell_type": "code",
      "execution_count": null,
      "metadata": {
        "id": "N_1xyRFiR4ap"
      },
      "outputs": [],
      "source": [
        "from IPython.display import display\n",
        "import IPython\n",
        "# define a callback to clear the training outputs at the end of every training step\n",
        "class ClearTrainingOutput(tf.keras.callbacks.Callback):\n",
        "  def on_train_end(*args, **kwargs):\n",
        "    IPython.display.clear_output(wait = True)"
      ]
    },
    {
      "cell_type": "code",
      "execution_count": null,
      "metadata": {
        "id": "lS0XA3cqR6Gt"
      },
      "outputs": [],
      "source": [
        "import math\n",
        "# build the model within a function\n",
        "# Apply hyperparmeter tuning to the number of units in the second hidden layer in the model\n",
        "def model_builder(hp):\n",
        " \n",
        "    # Creating a Feed-Forward Neural Network (FFNN)\n",
        "    FFNN = Sequential()\n",
        "    FFNN.add(tf.keras.layers.Input(shape=(28,28, 1)))\n",
        "    FFNN.add(tf.keras.layers.Flatten())\n",
        "    ffnn_filters = [1024, 512, 256, 128, 64, 32, 16]\n",
        "    for n_nodes in ffnn_filters:\n",
        "        FFNN.add(tf.keras.layers.Dense(n_nodes, activation='relu'))\n",
        "      #  FFNN.add(tf.keras.layers.Dropout(0.1))  # hidden layer\n",
        "    FFNN.add(tf.keras.layers.Dense(10, activation='softmax'))        # output layer\n",
        "\n",
        "    FFNN.compile(loss= 'sparse_categorical_crossentropy',\n",
        "              #optimizer = tf.keras.optimizers.Adam(learning_rate= 0.001),\n",
        "              optimizer = 'adam',\n",
        "              metrics = ['accuracy'])\n",
        "\n",
        "    return FFNN \n",
        "     "
      ]
    },
    {
      "cell_type": "code",
      "execution_count": null,
      "metadata": {
        "id": "LFwNdcqKR7zl"
      },
      "outputs": [],
      "source": [
        "\n",
        "# instatiate the tuner and perform hypertuning\n",
        "tuner = kt.Hyperband(model_builder,\n",
        "                     objective = 'val_accuracy', \n",
        "                     max_epochs = 40,\n",
        "                     factor = 4,        # factor is a number that determines how many models are created to run in parallel whaen testing the hyperparameters\n",
        "                     directory = 'my_dir',  # directory that the tuned hyperparameter results are stored in (change the name of this directory if you get the message INFO:tensorflow:Oracle triggered exit)\n",
        "                     project_name = 'intro') \n",
        "\n",
        "t = tuner.search(X_train, Y_train, epochs = 40, validation_data = (X_test, Y_test) ,\n",
        "             callbacks = [ClearTrainingOutput()])\n",
        "     "
      ]
    },
    {
      "cell_type": "code",
      "execution_count": null,
      "metadata": {
        "colab": {
          "base_uri": "https://localhost:8080/",
          "height": 198
        },
        "id": "CR49D1w4SA3x",
        "outputId": "2e0001d5-87e9-4cdd-df37-57ef1c06549a"
      },
      "outputs": [
        {
          "output_type": "error",
          "ename": "IndexError",
          "evalue": "ignored",
          "traceback": [
            "\u001b[0;31m---------------------------------------------------------------------------\u001b[0m",
            "\u001b[0;31mIndexError\u001b[0m                                Traceback (most recent call last)",
            "\u001b[0;32m<ipython-input-9-3f95775b7559>\u001b[0m in \u001b[0;36m<module>\u001b[0;34m\u001b[0m\n\u001b[1;32m      1\u001b[0m \u001b[0;31m# Get the optimal hyperparameters\u001b[0m\u001b[0;34m\u001b[0m\u001b[0;34m\u001b[0m\u001b[0;34m\u001b[0m\u001b[0m\n\u001b[0;32m----> 2\u001b[0;31m \u001b[0mbest_hps\u001b[0m \u001b[0;34m=\u001b[0m \u001b[0mtuner\u001b[0m\u001b[0;34m.\u001b[0m\u001b[0mget_best_hyperparameters\u001b[0m\u001b[0;34m(\u001b[0m\u001b[0;34m)\u001b[0m\u001b[0;34m[\u001b[0m\u001b[0;36m0\u001b[0m\u001b[0;34m]\u001b[0m\u001b[0;34m\u001b[0m\u001b[0;34m\u001b[0m\u001b[0m\n\u001b[0m\u001b[1;32m      3\u001b[0m \u001b[0mprint\u001b[0m\u001b[0;34m(\u001b[0m\u001b[0mbest_hps\u001b[0m\u001b[0;34m.\u001b[0m\u001b[0mvalues\u001b[0m\u001b[0;34m)\u001b[0m\u001b[0;34m\u001b[0m\u001b[0;34m\u001b[0m\u001b[0m\n",
            "\u001b[0;31mIndexError\u001b[0m: list index out of range"
          ]
        }
      ],
      "source": [
        "# Get the optimal hyperparameters\n",
        "best_hps = tuner.get_best_hyperparameters()[0]\n",
        "print(best_hps.values)"
      ]
    },
    {
      "cell_type": "code",
      "execution_count": null,
      "metadata": {
        "colab": {
          "base_uri": "https://localhost:8080/",
          "height": 204
        },
        "id": "3i_q1MRBSCae",
        "outputId": "99298c73-81fb-432a-b36a-a2335a40863a"
      },
      "outputs": [
        {
          "ename": "NameError",
          "evalue": "ignored",
          "output_type": "error",
          "traceback": [
            "\u001b[0;31m---------------------------------------------------------------------------\u001b[0m",
            "\u001b[0;31mNameError\u001b[0m                                 Traceback (most recent call last)",
            "\u001b[0;32m<ipython-input-98-d2795ecd5f96>\u001b[0m in \u001b[0;36m<module>\u001b[0;34m\u001b[0m\n\u001b[1;32m      1\u001b[0m \u001b[0;31m# apply the optimal hyperparameters to the model and print the summary\u001b[0m\u001b[0;34m\u001b[0m\u001b[0;34m\u001b[0m\u001b[0;34m\u001b[0m\u001b[0m\n\u001b[0;32m----> 2\u001b[0;31m \u001b[0mHyper_model\u001b[0m \u001b[0;34m=\u001b[0m \u001b[0mtuner\u001b[0m\u001b[0;34m.\u001b[0m\u001b[0mhypermodel\u001b[0m\u001b[0;34m.\u001b[0m\u001b[0mbuild\u001b[0m\u001b[0;34m(\u001b[0m\u001b[0mbest_hps\u001b[0m\u001b[0;34m)\u001b[0m\u001b[0;34m\u001b[0m\u001b[0;34m\u001b[0m\u001b[0m\n\u001b[0m\u001b[1;32m      3\u001b[0m \u001b[0mHyper_model\u001b[0m\u001b[0;34m.\u001b[0m\u001b[0msummary\u001b[0m\u001b[0;34m(\u001b[0m\u001b[0;34m)\u001b[0m\u001b[0;34m\u001b[0m\u001b[0;34m\u001b[0m\u001b[0m\n",
            "\u001b[0;31mNameError\u001b[0m: name 'best_hps' is not defined"
          ]
        }
      ],
      "source": [
        "# apply the optimal hyperparameters to the model and print the summary\n",
        "Hyper_model = tuner.hypermodel.build(best_hps)\n",
        "Hyper_model.summary()"
      ]
    },
    {
      "cell_type": "code",
      "execution_count": null,
      "metadata": {
        "id": "cybXnzdMSG_L"
      },
      "outputs": [],
      "source": [
        "\n",
        "\n",
        "# retrain the model with the optimum hyperparameters and train it on the data\n",
        "HyperTune = Hyper_model.fit(X_train, Y_train, epochs = 200, \n",
        "                            validation_data = (X_test, Y_test))\n",
        "HyperTune_scores = Hyper_model.evaluate(X_test, Y_test, verbose=0)\n",
        "print('\\n')\n",
        "print(\"Accuracy: %.2f%%\" % (HyperTune_scores[1]*100))\n",
        "\n",
        "\n",
        "HyperTune_val_accuracy = HyperTune.history['val_accuracy'][-1] * 100\n",
        "print('\\n')\n",
        "print(\"Validation Score: %.2f%%\" % (HyperTune_val_accuracy))"
      ]
    },
    {
      "cell_type": "code",
      "execution_count": null,
      "metadata": {
        "id": "TwGF8s1USIzm"
      },
      "outputs": [],
      "source": [
        "\n",
        "\n",
        "# summarize the history for accuracy\n",
        "plt.plot(HyperTune.history['accuracy'])\n",
        "plt.plot(HyperTune.history['val_accuracy'])\n",
        "plt.title('model accuracy')\n",
        "plt.ylabel('accuracy')\n",
        "plt.xlabel('epoch')\n",
        "plt.legend(['train','test'], loc='upper left')\n",
        "plt.show()\n",
        "\n",
        "# summarize the history for loss\n",
        "plt.plot(HyperTune.history['loss'])\n",
        "plt.plot(HyperTune.history['val_loss'])\n",
        "plt.title('model loss')\n",
        "plt.ylabel('loss')\n",
        "plt.xlabel('epoch')\n",
        "plt.legend(['train','test'], loc='upper left')\n",
        "plt.show()\n",
        "     "
      ]
    }
  ],
  "metadata": {
    "colab": {
      "provenance": [],
      "collapsed_sections": [
        "poud6WlEOsbA"
      ],
      "authorship_tag": "ABX9TyN5IDrd+P0xRwDL9QIQ54hD",
      "include_colab_link": true
    },
    "gpuClass": "standard",
    "kernelspec": {
      "display_name": "Python 3",
      "name": "python3"
    },
    "language_info": {
      "name": "python"
    }
  },
  "nbformat": 4,
  "nbformat_minor": 0
}