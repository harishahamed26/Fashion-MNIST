{
  "nbformat": 4,
  "nbformat_minor": 0,
  "metadata": {
    "colab": {
      "provenance": [],
      "authorship_tag": "ABX9TyNFuorLnTQgC6VCRRZ961jT",
      "include_colab_link": true
    },
    "kernelspec": {
      "name": "python3",
      "display_name": "Python 3"
    },
    "language_info": {
      "name": "python"
    }
  },
  "cells": [
    {
      "cell_type": "markdown",
      "metadata": {
        "id": "view-in-github",
        "colab_type": "text"
      },
      "source": [
        "<a href=\"https://colab.research.google.com/github/harishahamed26/Fashion-MNIST/blob/main/Fashion_MNIST_Image_Classificaiton.ipynb\" target=\"_parent\"><img src=\"https://colab.research.google.com/assets/colab-badge.svg\" alt=\"Open In Colab\"/></a>"
      ]
    },
    {
      "cell_type": "code",
      "execution_count": 9,
      "metadata": {
        "id": "VLdpL9QbkPwl"
      },
      "outputs": [],
      "source": [
        "# Importing of necessary libraries\n",
        "\n",
        "\n",
        "import numpy  as np\n",
        "import pandas as pd\n",
        "import matplotlib.pyplot as plt\n",
        "import seaborn as sns\n",
        "import cv2  \n",
        "from sklearn.metrics import accuracy_score, classification_report, confusion_matrix\n",
        "\n",
        "from tqdm import tqdm\n",
        "\n",
        "import tensorflow as tf\n",
        "from tensorflow import keras\n",
        "from tensorflow.keras.models import Sequential\n",
        "from tensorflow.keras.layers import Dense\n",
        "from tensorflow.keras.layers import Dropout\n",
        "\n",
        "# defining the constant dimension \n",
        "\n",
        "Const_Dim = (200, 200)\n",
        "RANDOM_SEED = 100"
      ]
    },
    {
      "cell_type": "code",
      "source": [
        "df_MNIST =tf.keras.datasets.fashion_mnist.load_data() \n",
        "(X_train, Y_train), (X_test,Y_test) = tf.keras.datasets.fashion_mnist.load_data() "
      ],
      "metadata": {
        "id": "0LtxW8InmD3Z"
      },
      "execution_count": 32,
      "outputs": []
    },
    {
      "cell_type": "code",
      "source": [
        "X_test.shape"
      ],
      "metadata": {
        "colab": {
          "base_uri": "https://localhost:8080/"
        },
        "id": "kQS83El49w8h",
        "outputId": "9b6fcd86-e577-44d7-91fc-f726776c6fb7"
      },
      "execution_count": 27,
      "outputs": [
        {
          "output_type": "execute_result",
          "data": {
            "text/plain": [
              "(10000, 28, 28)"
            ]
          },
          "metadata": {},
          "execution_count": 27
        }
      ]
    },
    {
      "cell_type": "code",
      "source": [
        "plt.imshow(X_train[0])"
      ],
      "metadata": {
        "colab": {
          "base_uri": "https://localhost:8080/",
          "height": 283
        },
        "id": "ZspYSUtSm4zI",
        "outputId": "7287086a-d00f-465d-bc8f-076d86621b0f"
      },
      "execution_count": 30,
      "outputs": [
        {
          "output_type": "execute_result",
          "data": {
            "text/plain": [
              "<matplotlib.image.AxesImage at 0x7f3ff16e4cd0>"
            ]
          },
          "metadata": {},
          "execution_count": 30
        },
        {
          "output_type": "display_data",
          "data": {
            "text/plain": [
              "<Figure size 432x288 with 1 Axes>"
            ],
            "image/png": "[encoded data removed]"
          },
          "metadata": {
            "needs_background": "light"
          }
        }
      ]
    },
    {
      "cell_type": "code",
      "source": [
        "X_train = X_train.astype(float)/255.0\n",
        "X_test  = X_test.astype(float)/255.0"
      ],
      "metadata": {
        "id": "CQIypFNonZSj"
      },
      "execution_count": 35,
      "outputs": []
    },
    {
      "cell_type": "code",
      "source": [
        "model = Sequential()\n",
        "\n",
        "model.add(keras.layers.Conv2D(filters = 32, kernel_size = (3,3), strides = 1, padding = 'same' , activation='relu', input_shape = (28,28,1)))\n",
        "model.add(keras.layers.MaxPooling2D((2,2)))\n",
        "\n",
        "model.add(Dropout(0.2))\n",
        "\n",
        "model.add(keras.layers.Conv2D(64, (3, 3),strides = 1, padding = 'same', activation='relu'))\n",
        "model.add(keras.layers.MaxPooling2D((2,2)))\n",
        "\n",
        "model.add(Dropout(0.2))\n",
        "\n",
        "model.add(keras.layers.Conv2D(128, (3, 3),strides = 1, padding = 'same', activation='relu'))\n",
        "model.add(keras.layers.MaxPooling2D((2,2)))\n",
        "\n",
        "model.add(Dropout(0.2))\n",
        "\n",
        "\n",
        "model.add(keras.layers.Flatten())\n",
        "\n",
        "model.add(Dense(128,activation='relu'))\n",
        "model.add(Dropout(0.2))\n",
        "\n",
        "model.add(Dense(128,activation='relu'))\n",
        "model.add(Dropout(0.2))\n",
        "\n",
        "model.add(Dense(10, activation= 'softmax'))"
      ],
      "metadata": {
        "id": "NqYSSeDJnnuO"
      },
      "execution_count": 44,
      "outputs": []
    },
    {
      "cell_type": "code",
      "source": [
        "model.compile(loss= 'sparse_categorical_crossentropy',\n",
        "              optimizer = 'sgd',\n",
        "              metrics = ['accuracy'])"
      ],
      "metadata": {
        "id": "VKpJJiVRn0Xm"
      },
      "execution_count": 45,
      "outputs": []
    },
    {
      "cell_type": "code",
      "source": [
        "# Defining Early Stop method\n",
        "EarlyStop = keras.callbacks.EarlyStopping(monitor='val_accuracy', patience=5, restore_best_weights=True)"
      ],
      "metadata": {
        "id": "2yWckoLIn1o2"
      },
      "execution_count": 46,
      "outputs": []
    },
    {
      "cell_type": "code",
      "source": [
        "model_history = model.fit(X_train, Y_train, epochs = 10, batch_size = 32, validation_split = 0.2, callbacks = EarlyStop)"
      ],
      "metadata": {
        "colab": {
          "base_uri": "https://localhost:8080/"
        },
        "id": "hoTtxTDgn3dP",
        "outputId": "a6a9c352-5770-4925-a0df-3a2ef23f19e8"
      },
      "execution_count": 48,
      "outputs": [
        {
          "output_type": "stream",
          "name": "stdout",
          "text": [
            "Epoch 1/10\n",
            "1500/1500 [==============================] - 75s 50ms/step - loss: 1.2460 - accuracy: 0.5177 - val_loss: 0.7922 - val_accuracy: 0.7077\n",
            "Epoch 2/10\n",
            "1500/1500 [==============================] - 76s 51ms/step - loss: 0.8140 - accuracy: 0.6830 - val_loss: 0.6716 - val_accuracy: 0.7421\n",
            "Epoch 3/10\n",
            "1500/1500 [==============================] - 75s 50ms/step - loss: 0.7003 - accuracy: 0.7313 - val_loss: 0.5791 - val_accuracy: 0.7829\n",
            "Epoch 4/10\n",
            "1500/1500 [==============================] - 75s 50ms/step - loss: 0.6271 - accuracy: 0.7601 - val_loss: 0.5105 - val_accuracy: 0.8037\n",
            "Epoch 5/10\n",
            "1500/1500 [==============================] - 76s 51ms/step - loss: 0.5758 - accuracy: 0.7831 - val_loss: 0.4786 - val_accuracy: 0.8186\n",
            "Epoch 6/10\n",
            "1500/1500 [==============================] - 76s 51ms/step - loss: 0.5386 - accuracy: 0.7965 - val_loss: 0.4522 - val_accuracy: 0.8310\n",
            "Epoch 7/10\n",
            "1500/1500 [==============================] - 76s 51ms/step - loss: 0.5059 - accuracy: 0.8111 - val_loss: 0.4311 - val_accuracy: 0.8387\n",
            "Epoch 8/10\n",
            "1500/1500 [==============================] - 75s 50ms/step - loss: 0.4799 - accuracy: 0.8232 - val_loss: 0.3979 - val_accuracy: 0.8543\n",
            "Epoch 9/10\n",
            "1500/1500 [==============================] - 77s 51ms/step - loss: 0.4590 - accuracy: 0.8302 - val_loss: 0.3967 - val_accuracy: 0.8540\n",
            "Epoch 10/10\n",
            "1500/1500 [==============================] - 75s 50ms/step - loss: 0.4400 - accuracy: 0.8389 - val_loss: 0.3708 - val_accuracy: 0.8655\n"
          ]
        }
      ]
    },
    {
      "cell_type": "code",
      "source": [
        "ev = model.evaluate(X_test,Y_test)\n",
        "ev"
      ],
      "metadata": {
        "colab": {
          "base_uri": "https://localhost:8080/"
        },
        "id": "7SMDZMRtn-j8",
        "outputId": "59014350-76b5-43a2-fc53-cbea8626ee02"
      },
      "execution_count": 49,
      "outputs": [
        {
          "output_type": "stream",
          "name": "stdout",
          "text": [
            "313/313 [==============================] - 5s 14ms/step - loss: 0.3817 - accuracy: 0.8598\n"
          ]
        },
        {
          "output_type": "execute_result",
          "data": {
            "text/plain": [
              "[0.381664514541626, 0.8597999811172485]"
            ]
          },
          "metadata": {},
          "execution_count": 49
        }
      ]
    },
    {
      "cell_type": "code",
      "source": [
        "\n",
        "\n",
        "# summarize the history for accuracy\n",
        "plt.plot(model_history.history['accuracy'])\n",
        "plt.plot(model_history.history['val_accuracy'])\n",
        "plt.title('model accuracy')\n",
        "plt.ylabel('accuracy')\n",
        "plt.xlabel('epoch')\n",
        "plt.legend(['train','test'], loc='upper left')\n",
        "plt.show()\n",
        "\n",
        "# summarize the history for loss\n",
        "plt.plot(model_history.history['loss'])\n",
        "plt.plot(model_history.history['val_loss'])\n",
        "plt.title('model loss')\n",
        "plt.ylabel('loss')\n",
        "plt.xlabel('epoch')\n",
        "plt.legend(['train','test'], loc='upper left')\n",
        "plt.show()\n",
        "     "
      ],
      "metadata": {
        "colab": {
          "base_uri": "https://localhost:8080/",
          "height": 573
        },
        "id": "1DrrzAYRoNxr",
        "outputId": "45a4c324-4d77-4f4e-b367-f0f7ec482c84"
      },
      "execution_count": 50,
      "outputs": [
        {
          "output_type": "display_data",
          "data": {
            "text/plain": [
              "<Figure size 432x288 with 1 Axes>"
            ],
            "image/png": "[encoded data removed]"
          },
          "metadata": {
            "needs_background": "light"
          }
        },
        {
          "output_type": "display_data",
          "data": {
            "text/plain": [
              "<Figure size 432x288 with 1 Axes>"
            ],
            "image/png": "[encoded data removed]"
          },
          "metadata": {
            "needs_background": "light"
          }
        }
      ]
    }
  ]
}